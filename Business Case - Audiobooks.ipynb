{
 "cells": [
  {
   "cell_type": "code",
   "execution_count": 22,
   "id": "ab8b3373",
   "metadata": {},
   "outputs": [],
   "source": [
    "import numpy as np\n",
    "from sklearn import preprocessing\n",
    "import tensorflow as tf\n",
    "\n",
    "raw_csv_data = np.loadtxt('Audiobooks_data.csv', delimiter = ',')\n",
    "\n",
    "unscaled_inputs_all = raw_csv_data[:,1:-1]\n",
    "targets_all = raw_csv_data[:,-1]"
   ]
  },
  {
   "cell_type": "markdown",
   "id": "954a293c",
   "metadata": {},
   "source": [
    "### Balance Dataset"
   ]
  },
  {
   "cell_type": "code",
   "execution_count": 42,
   "id": "8b92277f",
   "metadata": {},
   "outputs": [],
   "source": [
    "num_one_targets = int(np.sum(targets_all))\n",
    "zero_targets_counter = 0\n",
    "indices_to_remove = []\n",
    "\n",
    "for i in range(targets_all.shape[0]):\n",
    "    if targets_all[i] == 0:\n",
    "        zero_targets_counter += 1\n",
    "        if zero_targets_counter > num_one_targets:\n",
    "            indices_to_remove.append(i)\n",
    "\n",
    "unscaled_inputs_equal_priors = np.delete(unscaled_inputs_all, indices_to_remove, axis = 0)\n",
    "targets_equal_priors = np.delete(targets_all, indices_to_remove, axis = 0)"
   ]
  },
  {
   "cell_type": "markdown",
   "id": "c2fdf69d",
   "metadata": {},
   "source": [
    "### Standardize and PreProcess Further"
   ]
  },
  {
   "cell_type": "code",
   "execution_count": 43,
   "id": "b327e6d1",
   "metadata": {},
   "outputs": [],
   "source": [
    "scaled_inputs = preprocessing.scale(unscaled_inputs_equal_priors)"
   ]
  },
  {
   "cell_type": "code",
   "execution_count": 50,
   "id": "89932dd1",
   "metadata": {},
   "outputs": [],
   "source": [
    "shuffled_indices = np.arange(scaled_inputs.shape[0])\n",
    "np.random.shuffle(shuffled_indices)\n",
    "\n",
    "shuffled_inputs = scaled_inputs[shuffled_indices]\n",
    "shuffled_targets = targets_equal_priors[shuffled_indices]"
   ]
  },
  {
   "cell_type": "code",
   "execution_count": 51,
   "id": "b0ec2003",
   "metadata": {},
   "outputs": [
    {
     "name": "stdout",
     "output_type": "stream",
     "text": [
      "1787.0 3579 0.4993014808605756\n",
      "228.0 447 0.5100671140939598\n",
      "222.0 448 0.4955357142857143\n"
     ]
    }
   ],
   "source": [
    "samples_count = shuffled_inputs.shape[0]\n",
    "\n",
    "train_samples_count = int(0.8*samples_count)\n",
    "validation_samples_count = int(0.1*samples_count)\n",
    "test_samples_count = samples_count - train_samples_count - validation_samples_count\n",
    "\n",
    "train_inputs = shuffled_inputs[:train_samples_count]\n",
    "train_targets = shuffled_targets[:train_samples_count]\n",
    "\n",
    "validation_inputs = shuffled_inputs[train_samples_count:train_samples_count + validation_samples_count]\n",
    "validation_targets = shuffled_targets[train_samples_count:train_samples_count + validation_samples_count]\n",
    "\n",
    "test_inputs = shuffled_inputs[train_samples_count + validation_samples_count:]\n",
    "test_targets = shuffled_targets[train_samples_count + validation_samples_count:]\n",
    "\n",
    "print(np.sum(train_targets), train_samples_count, np.sum(train_targets)/train_samples_count)\n",
    "print(np.sum(validation_targets), validation_samples_count ,np.sum(validation_targets)/validation_samples_count)\n",
    "print(np.sum(test_targets), test_samples_count, np.sum(test_targets)/test_samples_count)\n"
   ]
  },
  {
   "cell_type": "code",
   "execution_count": 52,
   "id": "64bd0dff",
   "metadata": {},
   "outputs": [],
   "source": [
    "np.savez('Audiobooks_data_train', inputs=train_inputs, targets = train_targets)\n",
    "np.savez('Audiobooks_data_validation', inputs=validation_inputs, targets = validation_targets)\n",
    "np.savez('Audiobooks_data_test', inputs=test_inputs, targets = test_targets)"
   ]
  },
  {
   "cell_type": "markdown",
   "id": "3132ad2a",
   "metadata": {},
   "source": [
    "### Machine Learning!"
   ]
  },
  {
   "cell_type": "code",
   "execution_count": 59,
   "id": "633ad154",
   "metadata": {},
   "outputs": [
    {
     "name": "stdout",
     "output_type": "stream",
     "text": [
      "Epoch 1/100\n",
      "112/112 - 1s - loss: 0.5852 - accuracy: 0.6935 - val_loss: 0.4457 - val_accuracy: 0.7673 - 678ms/epoch - 6ms/step\n",
      "Epoch 2/100\n",
      "112/112 - 0s - loss: 0.4015 - accuracy: 0.7871 - val_loss: 0.3793 - val_accuracy: 0.8009 - 347ms/epoch - 3ms/step\n",
      "Epoch 3/100\n",
      "112/112 - 0s - loss: 0.3653 - accuracy: 0.8013 - val_loss: 0.3683 - val_accuracy: 0.7919 - 359ms/epoch - 3ms/step\n",
      "Epoch 4/100\n",
      "112/112 - 0s - loss: 0.3553 - accuracy: 0.8058 - val_loss: 0.3639 - val_accuracy: 0.7852 - 380ms/epoch - 3ms/step\n",
      "Epoch 5/100\n",
      "112/112 - 0s - loss: 0.3475 - accuracy: 0.8083 - val_loss: 0.3671 - val_accuracy: 0.7875 - 380ms/epoch - 3ms/step\n",
      "Epoch 6/100\n",
      "112/112 - 0s - loss: 0.3450 - accuracy: 0.8075 - val_loss: 0.3656 - val_accuracy: 0.8009 - 356ms/epoch - 3ms/step\n",
      "Epoch 7/100\n",
      "112/112 - 0s - loss: 0.3392 - accuracy: 0.8159 - val_loss: 0.3644 - val_accuracy: 0.7897 - 349ms/epoch - 3ms/step\n",
      "Epoch 8/100\n",
      "112/112 - 0s - loss: 0.3329 - accuracy: 0.8206 - val_loss: 0.3564 - val_accuracy: 0.8121 - 351ms/epoch - 3ms/step\n",
      "Epoch 9/100\n",
      "112/112 - 0s - loss: 0.3328 - accuracy: 0.8145 - val_loss: 0.4104 - val_accuracy: 0.7673 - 353ms/epoch - 3ms/step\n",
      "Epoch 10/100\n",
      "112/112 - 0s - loss: 0.3352 - accuracy: 0.8164 - val_loss: 0.3483 - val_accuracy: 0.8076 - 371ms/epoch - 3ms/step\n",
      "Epoch 11/100\n",
      "112/112 - 0s - loss: 0.3298 - accuracy: 0.8170 - val_loss: 0.3514 - val_accuracy: 0.7964 - 313ms/epoch - 3ms/step\n",
      "Epoch 12/100\n",
      "112/112 - 0s - loss: 0.3296 - accuracy: 0.8189 - val_loss: 0.3547 - val_accuracy: 0.8031 - 273ms/epoch - 2ms/step\n",
      "Epoch 13/100\n",
      "112/112 - 0s - loss: 0.3262 - accuracy: 0.8187 - val_loss: 0.3469 - val_accuracy: 0.7964 - 261ms/epoch - 2ms/step\n",
      "Epoch 14/100\n",
      "112/112 - 0s - loss: 0.3259 - accuracy: 0.8173 - val_loss: 0.3573 - val_accuracy: 0.8098 - 263ms/epoch - 2ms/step\n",
      "Epoch 15/100\n",
      "112/112 - 0s - loss: 0.3259 - accuracy: 0.8198 - val_loss: 0.3552 - val_accuracy: 0.7942 - 265ms/epoch - 2ms/step\n",
      "Epoch 16/100\n",
      "112/112 - 0s - loss: 0.3274 - accuracy: 0.8201 - val_loss: 0.3421 - val_accuracy: 0.8188 - 258ms/epoch - 2ms/step\n",
      "Epoch 17/100\n",
      "112/112 - 0s - loss: 0.3219 - accuracy: 0.8217 - val_loss: 0.3506 - val_accuracy: 0.8076 - 258ms/epoch - 2ms/step\n",
      "Epoch 18/100\n",
      "112/112 - 0s - loss: 0.3230 - accuracy: 0.8187 - val_loss: 0.3439 - val_accuracy: 0.8121 - 253ms/epoch - 2ms/step\n",
      "Epoch 19/100\n",
      "112/112 - 0s - loss: 0.3219 - accuracy: 0.8248 - val_loss: 0.3521 - val_accuracy: 0.8031 - 290ms/epoch - 3ms/step\n",
      "Epoch 20/100\n",
      "112/112 - 0s - loss: 0.3211 - accuracy: 0.8159 - val_loss: 0.3414 - val_accuracy: 0.8210 - 277ms/epoch - 2ms/step\n",
      "Epoch 21/100\n",
      "112/112 - 0s - loss: 0.3213 - accuracy: 0.8234 - val_loss: 0.3463 - val_accuracy: 0.8098 - 292ms/epoch - 3ms/step\n",
      "Epoch 22/100\n",
      "112/112 - 0s - loss: 0.3225 - accuracy: 0.8201 - val_loss: 0.3625 - val_accuracy: 0.7897 - 319ms/epoch - 3ms/step\n",
      "Epoch 23/100\n",
      "112/112 - 0s - loss: 0.3205 - accuracy: 0.8237 - val_loss: 0.3558 - val_accuracy: 0.8076 - 332ms/epoch - 3ms/step\n",
      "Epoch 24/100\n",
      "112/112 - 0s - loss: 0.3171 - accuracy: 0.8262 - val_loss: 0.3419 - val_accuracy: 0.8210 - 312ms/epoch - 3ms/step\n",
      "Epoch 25/100\n",
      "112/112 - 0s - loss: 0.3191 - accuracy: 0.8231 - val_loss: 0.3587 - val_accuracy: 0.8031 - 328ms/epoch - 3ms/step\n"
     ]
    },
    {
     "data": {
      "text/plain": [
       "<keras.callbacks.History at 0x18a391344c0>"
      ]
     },
     "execution_count": 59,
     "metadata": {},
     "output_type": "execute_result"
    }
   ],
   "source": [
    "input_size = 10\n",
    "output_size = 2\n",
    "hidden_layer_size = 50  # Change this to improve convergence time\n",
    "\n",
    "# Two hidden layers, classification so exit layer is softmax\n",
    "\n",
    "model = tf.keras.Sequential([\n",
    "    tf.keras.layers.Dense(hidden_layer_size, activation='relu'),\n",
    "    tf.keras.layers.Dense(hidden_layer_size, activation='relu'),\n",
    "    tf.keras.layers.Dense(hidden_layer_size, activation='sigmoid'),\n",
    "    tf.keras.layers.Dense(output_size, activation='softmax'),    \n",
    "                            ])\n",
    "\n",
    "model.compile(optimizer='adam', loss='sparse_categorical_crossentropy', metrics=['accuracy'])\n",
    "\n",
    "batch_size = 100\n",
    "max_epochs = 100\n",
    "early_stopping = tf.keras.callbacks.EarlyStopping(patience = 5)\n",
    "\n",
    "model.fit(train_inputs,\n",
    "          train_targets,\n",
    "         batch_size = batch_size,\n",
    "         epochs = max_epochs,\n",
    "         callbacks=[early_stopping],\n",
    "         validation_data = (validation_inputs, validation_targets),\n",
    "         verbose = 2\n",
    "         )"
   ]
  },
  {
   "cell_type": "code",
   "execution_count": 48,
   "id": "7600cfba",
   "metadata": {},
   "outputs": [
    {
     "name": "stdout",
     "output_type": "stream",
     "text": [
      "14/14 [==============================] - 0s 2ms/step - loss: 0.3660 - accuracy: 0.7812\n"
     ]
    }
   ],
   "source": [
    "test_loss, test_accuracy = model.evaluate(test_inputs,test_targets)"
   ]
  }
 ],
 "metadata": {
  "kernelspec": {
   "display_name": "DataScience",
   "language": "python",
   "name": "datascience"
  },
  "language_info": {
   "codemirror_mode": {
    "name": "ipython",
    "version": 3
   },
   "file_extension": ".py",
   "mimetype": "text/x-python",
   "name": "python",
   "nbconvert_exporter": "python",
   "pygments_lexer": "ipython3",
   "version": "3.9.0"
  }
 },
 "nbformat": 4,
 "nbformat_minor": 5
}
