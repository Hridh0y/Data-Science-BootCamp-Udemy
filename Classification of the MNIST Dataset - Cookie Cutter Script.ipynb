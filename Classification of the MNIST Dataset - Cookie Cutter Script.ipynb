{
 "cells": [
  {
   "cell_type": "code",
   "execution_count": 1,
   "id": "86285670",
   "metadata": {},
   "outputs": [],
   "source": [
    "import numpy as np\n",
    "import tensorflow as tf"
   ]
  },
  {
   "cell_type": "code",
   "execution_count": 4,
   "id": "a94efbb7",
   "metadata": {},
   "outputs": [],
   "source": [
    "import tensorflow_datasets as tfds"
   ]
  },
  {
   "cell_type": "code",
   "execution_count": 6,
   "id": "e0d9dbd7",
   "metadata": {},
   "outputs": [
    {
     "name": "stdout",
     "output_type": "stream",
     "text": [
      "\u001b[1mDownloading and preparing dataset Unknown size (download: Unknown size, generated: Unknown size, total: Unknown size) to C:\\Users\\hridhoy.datta\\tensorflow_datasets\\mnist\\3.0.1...\u001b[0m\n"
     ]
    },
    {
     "data": {
      "application/vnd.jupyter.widget-view+json": {
       "model_id": "a698f4831b384fecab49eabf12c48cb6",
       "version_major": 2,
       "version_minor": 0
      },
      "text/plain": [
       "Dl Completed...: 0 url [00:00, ? url/s]"
      ]
     },
     "metadata": {},
     "output_type": "display_data"
    },
    {
     "data": {
      "application/vnd.jupyter.widget-view+json": {
       "model_id": "16f38b891f0643829f67231cc13dcb37",
       "version_major": 2,
       "version_minor": 0
      },
      "text/plain": [
       "Dl Size...: 0 MiB [00:00, ? MiB/s]"
      ]
     },
     "metadata": {},
     "output_type": "display_data"
    },
    {
     "data": {
      "application/vnd.jupyter.widget-view+json": {
       "model_id": "3fd810a6d3c541d4a7a3be2f3519ff92",
       "version_major": 2,
       "version_minor": 0
      },
      "text/plain": [
       "Extraction completed...: 0 file [00:00, ? file/s]"
      ]
     },
     "metadata": {},
     "output_type": "display_data"
    },
    {
     "data": {
      "application/vnd.jupyter.widget-view+json": {
       "model_id": "",
       "version_major": 2,
       "version_minor": 0
      },
      "text/plain": [
       "Generating splits...:   0%|          | 0/2 [00:00<?, ? splits/s]"
      ]
     },
     "metadata": {},
     "output_type": "display_data"
    },
    {
     "data": {
      "application/vnd.jupyter.widget-view+json": {
       "model_id": "",
       "version_major": 2,
       "version_minor": 0
      },
      "text/plain": [
       "Generating train examples...: 0 examples [00:00, ? examples/s]"
      ]
     },
     "metadata": {},
     "output_type": "display_data"
    },
    {
     "data": {
      "application/vnd.jupyter.widget-view+json": {
       "model_id": "",
       "version_major": 2,
       "version_minor": 0
      },
      "text/plain": [
       "Shuffling C:\\Users\\hridhoy.datta\\tensorflow_datasets\\mnist\\3.0.1.incompleteM31RWR\\mnist-train.tfrecord*...:   …"
      ]
     },
     "metadata": {},
     "output_type": "display_data"
    },
    {
     "data": {
      "application/vnd.jupyter.widget-view+json": {
       "model_id": "",
       "version_major": 2,
       "version_minor": 0
      },
      "text/plain": [
       "Generating test examples...: 0 examples [00:00, ? examples/s]"
      ]
     },
     "metadata": {},
     "output_type": "display_data"
    },
    {
     "data": {
      "application/vnd.jupyter.widget-view+json": {
       "model_id": "",
       "version_major": 2,
       "version_minor": 0
      },
      "text/plain": [
       "Shuffling C:\\Users\\hridhoy.datta\\tensorflow_datasets\\mnist\\3.0.1.incompleteM31RWR\\mnist-test.tfrecord*...:   0…"
      ]
     },
     "metadata": {},
     "output_type": "display_data"
    },
    {
     "name": "stdout",
     "output_type": "stream",
     "text": [
      "\u001b[1mDataset mnist downloaded and prepared to C:\\Users\\hridhoy.datta\\tensorflow_datasets\\mnist\\3.0.1. Subsequent calls will reuse this data.\u001b[0m\n"
     ]
    }
   ],
   "source": [
    "mnist_dataset, mnist_info = tfds.load(name='mnist', with_info=True, as_supervised=True)"
   ]
  },
  {
   "cell_type": "code",
   "execution_count": 30,
   "id": "621459fa",
   "metadata": {},
   "outputs": [],
   "source": [
    "mnist_train, mnist_test = mnist_dataset['train'], mnist_dataset['test']\n",
    "\n",
    "num_validation_samples = 0.1 * mnist_info.splits['train'].num_examples\n",
    "num_validation_samples = tf.cast(num_validation_samples, tf.int64)\n",
    "\n",
    "num_test_samples = mnist_info.splits['test'].num_examples\n",
    "num_test_samples = tf.cast(num_validation_samples, tf.int64)\n",
    "\n",
    "def scale(image, label):\n",
    "    image = tf.cast(image, tf.float32)\n",
    "    image /= 255\n",
    "    return image, label\n",
    "\n",
    "scaled_train_and_validation_data = mnist_train.map(scale)\n",
    "test_data = mnist_test.map(scale)"
   ]
  },
  {
   "cell_type": "code",
   "execution_count": 31,
   "id": "9a6cf617",
   "metadata": {},
   "outputs": [],
   "source": [
    "buffer = 10000\n",
    "shuffled_train_and_validation_data = scaled_train_and_validation_data.shuffle(buffer)\n",
    "\n",
    "validation_data = shuffled_train_and_validation_data.take(num_validation_samples)\n",
    "train_data = shuffled_train_and_validation_data.skip(num_validation_samples)\n",
    "\n",
    "batch_size = 100\n",
    "\n",
    "train_data = train_data.batch(batch_size)\n",
    "validation_data = validation_data.batch(num_validation_samples)\n",
    "\n",
    "test_data = test_data.batch(num_test_samples)\n",
    "\n",
    "validation_inputs, validation_targets = next(iter(validation_data))"
   ]
  },
  {
   "cell_type": "markdown",
   "id": "daee242d",
   "metadata": {},
   "source": [
    "### Model Building"
   ]
  },
  {
   "cell_type": "code",
   "execution_count": 32,
   "id": "f076ae70",
   "metadata": {},
   "outputs": [],
   "source": [
    "input_size = 784\n",
    "output_size = 10\n",
    "hidden_layer_size = 50  # Change this to improve convergence time\n",
    "\n",
    "model = tf.keras.Sequential([\n",
    "    tf.keras.layers.Flatten(input_shape=(28,28,1)),\n",
    "    tf.keras.layers.Dense(hidden_layer_size, activation='relu'),\n",
    "    tf.keras.layers.Dense(hidden_layer_size, activation='relu'),\n",
    "    tf.keras.layers.Dense(output_size, activation='softmax'),    \n",
    "                            ])"
   ]
  },
  {
   "cell_type": "code",
   "execution_count": 34,
   "id": "f4957723",
   "metadata": {},
   "outputs": [],
   "source": [
    "model.compile(optimizer='adam', loss='sparse_categorical_crossentropy', metrics=['accuracy'])"
   ]
  },
  {
   "cell_type": "markdown",
   "id": "7934e87b",
   "metadata": {},
   "source": [
    "### Training"
   ]
  },
  {
   "cell_type": "code",
   "execution_count": 35,
   "id": "39202cb5",
   "metadata": {},
   "outputs": [
    {
     "name": "stdout",
     "output_type": "stream",
     "text": [
      "Epoch 1/100\n",
      "540/540 - 4s - loss: 0.4140 - accuracy: 0.8813 - val_loss: 0.2244 - val_accuracy: 0.9372 - 4s/epoch - 8ms/step\n",
      "Epoch 2/100\n",
      "540/540 - 2s - loss: 0.1821 - accuracy: 0.9468 - val_loss: 0.1661 - val_accuracy: 0.9547 - 2s/epoch - 3ms/step\n",
      "Epoch 3/100\n",
      "540/540 - 2s - loss: 0.1393 - accuracy: 0.9589 - val_loss: 0.1339 - val_accuracy: 0.9605 - 2s/epoch - 3ms/step\n",
      "Epoch 4/100\n",
      "540/540 - 2s - loss: 0.1151 - accuracy: 0.9664 - val_loss: 0.1073 - val_accuracy: 0.9683 - 2s/epoch - 3ms/step\n",
      "Epoch 5/100\n",
      "540/540 - 2s - loss: 0.0980 - accuracy: 0.9702 - val_loss: 0.0992 - val_accuracy: 0.9722 - 2s/epoch - 3ms/step\n",
      "Epoch 6/100\n",
      "540/540 - 2s - loss: 0.0835 - accuracy: 0.9751 - val_loss: 0.0895 - val_accuracy: 0.9737 - 2s/epoch - 3ms/step\n",
      "Epoch 7/100\n",
      "540/540 - 2s - loss: 0.0752 - accuracy: 0.9775 - val_loss: 0.0798 - val_accuracy: 0.9763 - 2s/epoch - 3ms/step\n",
      "Epoch 8/100\n",
      "540/540 - 2s - loss: 0.0668 - accuracy: 0.9796 - val_loss: 0.0714 - val_accuracy: 0.9797 - 2s/epoch - 3ms/step\n",
      "Epoch 9/100\n",
      "540/540 - 2s - loss: 0.0560 - accuracy: 0.9830 - val_loss: 0.0667 - val_accuracy: 0.9812 - 2s/epoch - 3ms/step\n",
      "Epoch 10/100\n",
      "540/540 - 2s - loss: 0.0534 - accuracy: 0.9837 - val_loss: 0.0582 - val_accuracy: 0.9830 - 2s/epoch - 3ms/step\n",
      "Epoch 11/100\n",
      "540/540 - 2s - loss: 0.0452 - accuracy: 0.9864 - val_loss: 0.0629 - val_accuracy: 0.9802 - 2s/epoch - 3ms/step\n",
      "Epoch 12/100\n",
      "540/540 - 2s - loss: 0.0419 - accuracy: 0.9871 - val_loss: 0.0495 - val_accuracy: 0.9845 - 2s/epoch - 3ms/step\n",
      "Epoch 13/100\n",
      "540/540 - 2s - loss: 0.0367 - accuracy: 0.9886 - val_loss: 0.0533 - val_accuracy: 0.9845 - 2s/epoch - 3ms/step\n",
      "Epoch 14/100\n",
      "540/540 - 2s - loss: 0.0351 - accuracy: 0.9890 - val_loss: 0.0515 - val_accuracy: 0.9852 - 2s/epoch - 3ms/step\n",
      "Epoch 15/100\n",
      "540/540 - 2s - loss: 0.0323 - accuracy: 0.9898 - val_loss: 0.0409 - val_accuracy: 0.9893 - 2s/epoch - 3ms/step\n",
      "Epoch 16/100\n",
      "540/540 - 2s - loss: 0.0296 - accuracy: 0.9912 - val_loss: 0.0395 - val_accuracy: 0.9880 - 2s/epoch - 3ms/step\n",
      "Epoch 17/100\n",
      "540/540 - 2s - loss: 0.0278 - accuracy: 0.9913 - val_loss: 0.0467 - val_accuracy: 0.9872 - 2s/epoch - 3ms/step\n",
      "Epoch 18/100\n",
      "540/540 - 2s - loss: 0.0245 - accuracy: 0.9927 - val_loss: 0.0332 - val_accuracy: 0.9903 - 2s/epoch - 3ms/step\n",
      "Epoch 19/100\n",
      "540/540 - 2s - loss: 0.0221 - accuracy: 0.9932 - val_loss: 0.0325 - val_accuracy: 0.9898 - 2s/epoch - 3ms/step\n",
      "Epoch 20/100\n",
      "540/540 - 2s - loss: 0.0217 - accuracy: 0.9929 - val_loss: 0.0296 - val_accuracy: 0.9903 - 2s/epoch - 3ms/step\n",
      "Epoch 21/100\n",
      "540/540 - 2s - loss: 0.0194 - accuracy: 0.9941 - val_loss: 0.0363 - val_accuracy: 0.9892 - 2s/epoch - 4ms/step\n",
      "Epoch 22/100\n",
      "540/540 - 2s - loss: 0.0180 - accuracy: 0.9943 - val_loss: 0.0228 - val_accuracy: 0.9925 - 2s/epoch - 3ms/step\n",
      "Epoch 23/100\n",
      "540/540 - 2s - loss: 0.0147 - accuracy: 0.9958 - val_loss: 0.0238 - val_accuracy: 0.9930 - 2s/epoch - 3ms/step\n",
      "Epoch 24/100\n",
      "540/540 - 2s - loss: 0.0163 - accuracy: 0.9951 - val_loss: 0.0218 - val_accuracy: 0.9930 - 2s/epoch - 3ms/step\n",
      "Epoch 25/100\n",
      "540/540 - 2s - loss: 0.0135 - accuracy: 0.9961 - val_loss: 0.0189 - val_accuracy: 0.9940 - 2s/epoch - 3ms/step\n",
      "Epoch 26/100\n",
      "540/540 - 2s - loss: 0.0117 - accuracy: 0.9965 - val_loss: 0.0224 - val_accuracy: 0.9927 - 2s/epoch - 3ms/step\n",
      "Epoch 27/100\n",
      "540/540 - 2s - loss: 0.0142 - accuracy: 0.9951 - val_loss: 0.0226 - val_accuracy: 0.9940 - 2s/epoch - 3ms/step\n",
      "Epoch 28/100\n",
      "540/540 - 2s - loss: 0.0112 - accuracy: 0.9966 - val_loss: 0.0136 - val_accuracy: 0.9967 - 2s/epoch - 4ms/step\n",
      "Epoch 29/100\n",
      "540/540 - 2s - loss: 0.0114 - accuracy: 0.9965 - val_loss: 0.0132 - val_accuracy: 0.9965 - 2s/epoch - 3ms/step\n",
      "Epoch 30/100\n",
      "540/540 - 2s - loss: 0.0096 - accuracy: 0.9971 - val_loss: 0.0177 - val_accuracy: 0.9948 - 2s/epoch - 3ms/step\n",
      "Epoch 31/100\n",
      "540/540 - 2s - loss: 0.0080 - accuracy: 0.9980 - val_loss: 0.0129 - val_accuracy: 0.9952 - 2s/epoch - 3ms/step\n",
      "Epoch 32/100\n",
      "540/540 - 2s - loss: 0.0091 - accuracy: 0.9972 - val_loss: 0.0171 - val_accuracy: 0.9945 - 2s/epoch - 3ms/step\n",
      "Epoch 33/100\n",
      "540/540 - 2s - loss: 0.0088 - accuracy: 0.9973 - val_loss: 0.0106 - val_accuracy: 0.9962 - 2s/epoch - 3ms/step\n",
      "Epoch 34/100\n",
      "540/540 - 2s - loss: 0.0124 - accuracy: 0.9960 - val_loss: 0.0166 - val_accuracy: 0.9942 - 2s/epoch - 3ms/step\n",
      "Epoch 35/100\n",
      "540/540 - 2s - loss: 0.0086 - accuracy: 0.9972 - val_loss: 0.0097 - val_accuracy: 0.9965 - 2s/epoch - 3ms/step\n",
      "Epoch 36/100\n",
      "540/540 - 2s - loss: 0.0072 - accuracy: 0.9979 - val_loss: 0.0097 - val_accuracy: 0.9965 - 2s/epoch - 4ms/step\n",
      "Epoch 37/100\n",
      "540/540 - 2s - loss: 0.0080 - accuracy: 0.9972 - val_loss: 0.0123 - val_accuracy: 0.9953 - 2s/epoch - 4ms/step\n",
      "Epoch 38/100\n",
      "540/540 - 2s - loss: 0.0099 - accuracy: 0.9966 - val_loss: 0.0064 - val_accuracy: 0.9973 - 2s/epoch - 3ms/step\n",
      "Epoch 39/100\n",
      "540/540 - 2s - loss: 0.0050 - accuracy: 0.9986 - val_loss: 0.0048 - val_accuracy: 0.9978 - 2s/epoch - 3ms/step\n",
      "Epoch 40/100\n",
      "540/540 - 2s - loss: 0.0042 - accuracy: 0.9987 - val_loss: 0.0045 - val_accuracy: 0.9985 - 2s/epoch - 3ms/step\n",
      "Epoch 41/100\n",
      "540/540 - 2s - loss: 0.0054 - accuracy: 0.9984 - val_loss: 0.0184 - val_accuracy: 0.9952 - 2s/epoch - 4ms/step\n",
      "Epoch 42/100\n",
      "540/540 - 2s - loss: 0.0078 - accuracy: 0.9975 - val_loss: 0.0097 - val_accuracy: 0.9968 - 2s/epoch - 3ms/step\n",
      "Epoch 43/100\n",
      "540/540 - 2s - loss: 0.0083 - accuracy: 0.9972 - val_loss: 0.0072 - val_accuracy: 0.9973 - 2s/epoch - 3ms/step\n",
      "Epoch 44/100\n",
      "540/540 - 2s - loss: 0.0063 - accuracy: 0.9979 - val_loss: 0.0047 - val_accuracy: 0.9983 - 2s/epoch - 3ms/step\n",
      "Epoch 45/100\n",
      "540/540 - 2s - loss: 0.0052 - accuracy: 0.9984 - val_loss: 0.0095 - val_accuracy: 0.9965 - 2s/epoch - 3ms/step\n",
      "Epoch 46/100\n",
      "540/540 - 2s - loss: 0.0056 - accuracy: 0.9983 - val_loss: 0.0046 - val_accuracy: 0.9982 - 2s/epoch - 3ms/step\n",
      "Epoch 47/100\n",
      "540/540 - 2s - loss: 0.0069 - accuracy: 0.9977 - val_loss: 0.0064 - val_accuracy: 0.9978 - 2s/epoch - 3ms/step\n",
      "Epoch 48/100\n",
      "540/540 - 2s - loss: 0.0044 - accuracy: 0.9986 - val_loss: 0.0048 - val_accuracy: 0.9988 - 2s/epoch - 3ms/step\n",
      "Epoch 49/100\n",
      "540/540 - 2s - loss: 0.0096 - accuracy: 0.9968 - val_loss: 0.0096 - val_accuracy: 0.9972 - 2s/epoch - 3ms/step\n",
      "Epoch 50/100\n",
      "540/540 - 2s - loss: 0.0044 - accuracy: 0.9986 - val_loss: 0.0037 - val_accuracy: 0.9992 - 2s/epoch - 3ms/step\n",
      "Epoch 51/100\n",
      "540/540 - 2s - loss: 0.0044 - accuracy: 0.9986 - val_loss: 0.0065 - val_accuracy: 0.9978 - 2s/epoch - 3ms/step\n",
      "Epoch 52/100\n",
      "540/540 - 2s - loss: 0.0063 - accuracy: 0.9977 - val_loss: 0.0103 - val_accuracy: 0.9960 - 2s/epoch - 3ms/step\n",
      "Epoch 53/100\n",
      "540/540 - 2s - loss: 0.0048 - accuracy: 0.9985 - val_loss: 0.0026 - val_accuracy: 0.9992 - 2s/epoch - 3ms/step\n",
      "Epoch 54/100\n",
      "540/540 - 2s - loss: 0.0037 - accuracy: 0.9987 - val_loss: 0.0103 - val_accuracy: 0.9957 - 2s/epoch - 3ms/step\n",
      "Epoch 55/100\n",
      "540/540 - 2s - loss: 0.0087 - accuracy: 0.9972 - val_loss: 0.0167 - val_accuracy: 0.9953 - 2s/epoch - 4ms/step\n",
      "Epoch 56/100\n",
      "540/540 - 2s - loss: 0.0036 - accuracy: 0.9988 - val_loss: 0.0025 - val_accuracy: 0.9990 - 2s/epoch - 4ms/step\n",
      "Epoch 57/100\n",
      "540/540 - 2s - loss: 0.0042 - accuracy: 0.9986 - val_loss: 0.0024 - val_accuracy: 0.9993 - 2s/epoch - 4ms/step\n",
      "Epoch 58/100\n",
      "540/540 - 2s - loss: 0.0041 - accuracy: 0.9988 - val_loss: 0.0090 - val_accuracy: 0.9965 - 2s/epoch - 4ms/step\n",
      "Epoch 59/100\n",
      "540/540 - 2s - loss: 0.0056 - accuracy: 0.9982 - val_loss: 0.0225 - val_accuracy: 0.9927 - 2s/epoch - 4ms/step\n",
      "Epoch 60/100\n",
      "540/540 - 2s - loss: 0.0088 - accuracy: 0.9971 - val_loss: 0.0066 - val_accuracy: 0.9978 - 2s/epoch - 4ms/step\n",
      "Epoch 61/100\n",
      "540/540 - 2s - loss: 0.0033 - accuracy: 0.9990 - val_loss: 0.0022 - val_accuracy: 0.9992 - 2s/epoch - 4ms/step\n",
      "Epoch 62/100\n",
      "540/540 - 2s - loss: 0.0040 - accuracy: 0.9987 - val_loss: 0.0095 - val_accuracy: 0.9968 - 2s/epoch - 4ms/step\n",
      "Epoch 63/100\n",
      "540/540 - 2s - loss: 0.0075 - accuracy: 0.9975 - val_loss: 0.0045 - val_accuracy: 0.9988 - 2s/epoch - 4ms/step\n",
      "Epoch 64/100\n",
      "540/540 - 2s - loss: 0.0037 - accuracy: 0.9989 - val_loss: 0.0071 - val_accuracy: 0.9975 - 2s/epoch - 4ms/step\n",
      "Epoch 65/100\n",
      "540/540 - 2s - loss: 0.0033 - accuracy: 0.9990 - val_loss: 0.0141 - val_accuracy: 0.9968 - 2s/epoch - 4ms/step\n",
      "Epoch 66/100\n",
      "540/540 - 2s - loss: 0.0030 - accuracy: 0.9991 - val_loss: 0.0045 - val_accuracy: 0.9985 - 2s/epoch - 4ms/step\n",
      "Epoch 67/100\n",
      "540/540 - 2s - loss: 0.0011 - accuracy: 0.9998 - val_loss: 7.1512e-04 - val_accuracy: 0.9998 - 2s/epoch - 4ms/step\n"
     ]
    },
    {
     "name": "stdout",
     "output_type": "stream",
     "text": [
      "Epoch 68/100\n",
      "540/540 - 2s - loss: 0.0115 - accuracy: 0.9965 - val_loss: 0.0116 - val_accuracy: 0.9970 - 2s/epoch - 4ms/step\n",
      "Epoch 69/100\n",
      "540/540 - 2s - loss: 0.0075 - accuracy: 0.9975 - val_loss: 0.0053 - val_accuracy: 0.9980 - 2s/epoch - 4ms/step\n",
      "Epoch 70/100\n",
      "540/540 - 2s - loss: 0.0018 - accuracy: 0.9995 - val_loss: 0.0017 - val_accuracy: 0.9993 - 2s/epoch - 4ms/step\n",
      "Epoch 71/100\n",
      "540/540 - 2s - loss: 0.0027 - accuracy: 0.9992 - val_loss: 0.0034 - val_accuracy: 0.9990 - 2s/epoch - 4ms/step\n",
      "Epoch 72/100\n",
      "540/540 - 2s - loss: 0.0098 - accuracy: 0.9969 - val_loss: 0.0099 - val_accuracy: 0.9965 - 2s/epoch - 4ms/step\n",
      "Epoch 73/100\n",
      "540/540 - 2s - loss: 0.0048 - accuracy: 0.9985 - val_loss: 0.0028 - val_accuracy: 0.9990 - 2s/epoch - 4ms/step\n",
      "Epoch 74/100\n",
      "540/540 - 2s - loss: 7.6969e-04 - accuracy: 0.9998 - val_loss: 0.0011 - val_accuracy: 0.9998 - 2s/epoch - 4ms/step\n",
      "Epoch 75/100\n",
      "540/540 - 2s - loss: 0.0014 - accuracy: 0.9996 - val_loss: 0.0010 - val_accuracy: 0.9998 - 2s/epoch - 4ms/step\n",
      "Epoch 76/100\n",
      "540/540 - 2s - loss: 0.0083 - accuracy: 0.9974 - val_loss: 0.0149 - val_accuracy: 0.9960 - 2s/epoch - 4ms/step\n",
      "Epoch 77/100\n",
      "540/540 - 2s - loss: 0.0072 - accuracy: 0.9979 - val_loss: 0.0075 - val_accuracy: 0.9972 - 2s/epoch - 4ms/step\n",
      "Epoch 78/100\n",
      "540/540 - 2s - loss: 0.0035 - accuracy: 0.9989 - val_loss: 0.0017 - val_accuracy: 0.9995 - 2s/epoch - 4ms/step\n",
      "Epoch 79/100\n",
      "540/540 - 2s - loss: 0.0023 - accuracy: 0.9993 - val_loss: 0.0015 - val_accuracy: 0.9993 - 2s/epoch - 3ms/step\n",
      "Epoch 80/100\n",
      "540/540 - 2s - loss: 0.0022 - accuracy: 0.9993 - val_loss: 0.0020 - val_accuracy: 0.9992 - 2s/epoch - 3ms/step\n",
      "Epoch 81/100\n",
      "540/540 - 2s - loss: 0.0038 - accuracy: 0.9988 - val_loss: 0.0049 - val_accuracy: 0.9980 - 2s/epoch - 4ms/step\n",
      "Epoch 82/100\n",
      "540/540 - 2s - loss: 0.0045 - accuracy: 0.9985 - val_loss: 0.0049 - val_accuracy: 0.9988 - 2s/epoch - 4ms/step\n",
      "Epoch 83/100\n",
      "540/540 - 2s - loss: 0.0033 - accuracy: 0.9989 - val_loss: 0.0052 - val_accuracy: 0.9977 - 2s/epoch - 4ms/step\n",
      "Epoch 84/100\n",
      "540/540 - 2s - loss: 0.0044 - accuracy: 0.9985 - val_loss: 0.0027 - val_accuracy: 0.9988 - 2s/epoch - 4ms/step\n",
      "Epoch 85/100\n",
      "540/540 - 2s - loss: 0.0022 - accuracy: 0.9994 - val_loss: 7.2054e-04 - val_accuracy: 0.9998 - 2s/epoch - 4ms/step\n",
      "Epoch 86/100\n",
      "540/540 - 2s - loss: 0.0014 - accuracy: 0.9995 - val_loss: 0.0028 - val_accuracy: 0.9988 - 2s/epoch - 4ms/step\n",
      "Epoch 87/100\n",
      "540/540 - 2s - loss: 0.0071 - accuracy: 0.9977 - val_loss: 0.0054 - val_accuracy: 0.9973 - 2s/epoch - 4ms/step\n",
      "Epoch 88/100\n",
      "540/540 - 2s - loss: 0.0057 - accuracy: 0.9982 - val_loss: 0.0047 - val_accuracy: 0.9983 - 2s/epoch - 4ms/step\n",
      "Epoch 89/100\n",
      "540/540 - 2s - loss: 0.0042 - accuracy: 0.9987 - val_loss: 0.0066 - val_accuracy: 0.9980 - 2s/epoch - 4ms/step\n",
      "Epoch 90/100\n",
      "540/540 - 2s - loss: 0.0026 - accuracy: 0.9992 - val_loss: 0.0013 - val_accuracy: 0.9997 - 2s/epoch - 4ms/step\n",
      "Epoch 91/100\n",
      "540/540 - 2s - loss: 0.0062 - accuracy: 0.9977 - val_loss: 0.0074 - val_accuracy: 0.9977 - 2s/epoch - 4ms/step\n",
      "Epoch 92/100\n",
      "540/540 - 2s - loss: 0.0034 - accuracy: 0.9989 - val_loss: 0.0011 - val_accuracy: 0.9998 - 2s/epoch - 4ms/step\n",
      "Epoch 93/100\n",
      "540/540 - 2s - loss: 0.0013 - accuracy: 0.9996 - val_loss: 0.0056 - val_accuracy: 0.9987 - 2s/epoch - 4ms/step\n",
      "Epoch 94/100\n",
      "540/540 - 2s - loss: 2.6488e-04 - accuracy: 0.9999 - val_loss: 0.0012 - val_accuracy: 0.9997 - 2s/epoch - 4ms/step\n",
      "Epoch 95/100\n",
      "540/540 - 2s - loss: 2.0446e-04 - accuracy: 1.0000 - val_loss: 1.5050e-04 - val_accuracy: 1.0000 - 2s/epoch - 4ms/step\n",
      "Epoch 96/100\n",
      "540/540 - 2s - loss: 7.4484e-05 - accuracy: 1.0000 - val_loss: 1.1184e-04 - val_accuracy: 1.0000 - 2s/epoch - 4ms/step\n",
      "Epoch 97/100\n",
      "540/540 - 2s - loss: 4.8243e-05 - accuracy: 1.0000 - val_loss: 7.0677e-05 - val_accuracy: 1.0000 - 2s/epoch - 4ms/step\n",
      "Epoch 98/100\n",
      "540/540 - 2s - loss: 3.3945e-05 - accuracy: 1.0000 - val_loss: 5.4358e-05 - val_accuracy: 1.0000 - 2s/epoch - 4ms/step\n",
      "Epoch 99/100\n",
      "540/540 - 2s - loss: 2.7247e-05 - accuracy: 1.0000 - val_loss: 4.2994e-05 - val_accuracy: 1.0000 - 2s/epoch - 4ms/step\n",
      "Epoch 100/100\n",
      "540/540 - 2s - loss: 2.2058e-05 - accuracy: 1.0000 - val_loss: 3.6101e-05 - val_accuracy: 1.0000 - 2s/epoch - 4ms/step\n"
     ]
    },
    {
     "data": {
      "text/plain": [
       "<keras.callbacks.History at 0x2428aaa0fa0>"
      ]
     },
     "execution_count": 35,
     "metadata": {},
     "output_type": "execute_result"
    }
   ],
   "source": [
    "num_epochs = 100\n",
    "\n",
    "model.fit(train_data, epochs = num_epochs, validation_data=(validation_inputs, validation_targets), verbose=2)"
   ]
  },
  {
   "cell_type": "code",
   "execution_count": 36,
   "id": "c6bc5b36",
   "metadata": {},
   "outputs": [
    {
     "name": "stdout",
     "output_type": "stream",
     "text": [
      "2/2 [==============================] - 1s 25ms/step - loss: 0.1968 - accuracy: 0.9775\n"
     ]
    }
   ],
   "source": [
    "test_loss, test_accuracy = model.evaluate(test_data)"
   ]
  }
 ],
 "metadata": {
  "kernelspec": {
   "display_name": "DataScience",
   "language": "python",
   "name": "datascience"
  },
  "language_info": {
   "codemirror_mode": {
    "name": "ipython",
    "version": 3
   },
   "file_extension": ".py",
   "mimetype": "text/x-python",
   "name": "python",
   "nbconvert_exporter": "python",
   "pygments_lexer": "ipython3",
   "version": "3.9.0"
  }
 },
 "nbformat": 4,
 "nbformat_minor": 5
}
