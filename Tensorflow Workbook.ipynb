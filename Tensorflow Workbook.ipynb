{
 "cells": [
  {
   "cell_type": "code",
   "execution_count": null,
   "id": "9b6aecb9",
   "metadata": {},
   "outputs": [],
   "source": [
    "#!pip install tensorflow"
   ]
  },
  {
   "cell_type": "code",
   "execution_count": 5,
   "id": "347bd345",
   "metadata": {},
   "outputs": [
    {
     "name": "stdout",
     "output_type": "stream",
     "text": [
      "2.9.0\n"
     ]
    }
   ],
   "source": [
    "import tensorflow as tf\n",
    "import numpy as np\n",
    "import matplotlib.pyplot as plt\n",
    "print(tf.__version__)"
   ]
  },
  {
   "cell_type": "code",
   "execution_count": 8,
   "id": "e23da6f7",
   "metadata": {},
   "outputs": [],
   "source": [
    "observations = 1000\n",
    "\n",
    "xs = np.random.uniform( low = -10, high = 10, size=(observations,1))\n",
    "zs = np.random.uniform(-10,10,(observations,1))\n",
    "\n",
    "generated_inputs = np.column_stack((xs,zs))\n",
    "\n",
    "noise = np.random.uniform(-1,1,(observations,1))\n",
    "\n",
    "generated_targets = 2*xs + 3*zs +5 + noise"
   ]
  },
  {
   "cell_type": "code",
   "execution_count": 10,
   "id": "106c2c8f",
   "metadata": {},
   "outputs": [],
   "source": [
    "np.savez('TF_introduction', inputs = generated_inputs, targets = generated_targets)"
   ]
  },
  {
   "cell_type": "code",
   "execution_count": 12,
   "id": "91c2f55f",
   "metadata": {},
   "outputs": [],
   "source": [
    "training_data = np.load('TF_introduction.npz')"
   ]
  },
  {
   "cell_type": "code",
   "execution_count": 21,
   "id": "dcf459ff",
   "metadata": {},
   "outputs": [
    {
     "name": "stdout",
     "output_type": "stream",
     "text": [
      "Epoch 1/100\n",
      "32/32 - 0s - loss: 25.6637 - 218ms/epoch - 7ms/step\n",
      "Epoch 2/100\n",
      "32/32 - 0s - loss: 4.3607 - 61ms/epoch - 2ms/step\n",
      "Epoch 3/100\n",
      "32/32 - 0s - loss: 1.4855 - 68ms/epoch - 2ms/step\n",
      "Epoch 4/100\n",
      "32/32 - 0s - loss: 0.6728 - 53ms/epoch - 2ms/step\n",
      "Epoch 5/100\n",
      "32/32 - 0s - loss: 0.4353 - 50ms/epoch - 2ms/step\n",
      "Epoch 6/100\n",
      "32/32 - 0s - loss: 0.3824 - 49ms/epoch - 2ms/step\n",
      "Epoch 7/100\n",
      "32/32 - 0s - loss: 0.3661 - 50ms/epoch - 2ms/step\n",
      "Epoch 8/100\n",
      "32/32 - 0s - loss: 0.3540 - 47ms/epoch - 1ms/step\n",
      "Epoch 9/100\n",
      "32/32 - 0s - loss: 0.3531 - 47ms/epoch - 1ms/step\n",
      "Epoch 10/100\n",
      "32/32 - 0s - loss: 0.3527 - 47ms/epoch - 1ms/step\n",
      "Epoch 11/100\n",
      "32/32 - 0s - loss: 0.3530 - 48ms/epoch - 1ms/step\n",
      "Epoch 12/100\n",
      "32/32 - 0s - loss: 0.3551 - 47ms/epoch - 1ms/step\n",
      "Epoch 13/100\n",
      "32/32 - 0s - loss: 0.3488 - 48ms/epoch - 1ms/step\n",
      "Epoch 14/100\n",
      "32/32 - 0s - loss: 0.3575 - 49ms/epoch - 2ms/step\n",
      "Epoch 15/100\n",
      "32/32 - 0s - loss: 0.3583 - 49ms/epoch - 2ms/step\n",
      "Epoch 16/100\n",
      "32/32 - 0s - loss: 0.3509 - 47ms/epoch - 1ms/step\n",
      "Epoch 17/100\n",
      "32/32 - 0s - loss: 0.3587 - 47ms/epoch - 1ms/step\n",
      "Epoch 18/100\n",
      "32/32 - 0s - loss: 0.3608 - 48ms/epoch - 1ms/step\n",
      "Epoch 19/100\n",
      "32/32 - 0s - loss: 0.3539 - 47ms/epoch - 1ms/step\n",
      "Epoch 20/100\n",
      "32/32 - 0s - loss: 0.3569 - 48ms/epoch - 1ms/step\n",
      "Epoch 21/100\n",
      "32/32 - 0s - loss: 0.3612 - 47ms/epoch - 1ms/step\n",
      "Epoch 22/100\n",
      "32/32 - 0s - loss: 0.3529 - 47ms/epoch - 1ms/step\n",
      "Epoch 23/100\n",
      "32/32 - 0s - loss: 0.3533 - 49ms/epoch - 2ms/step\n",
      "Epoch 24/100\n",
      "32/32 - 0s - loss: 0.3540 - 48ms/epoch - 1ms/step\n",
      "Epoch 25/100\n",
      "32/32 - 0s - loss: 0.3533 - 48ms/epoch - 1ms/step\n",
      "Epoch 26/100\n",
      "32/32 - 0s - loss: 0.3515 - 48ms/epoch - 1ms/step\n",
      "Epoch 27/100\n",
      "32/32 - 0s - loss: 0.3597 - 47ms/epoch - 1ms/step\n",
      "Epoch 28/100\n",
      "32/32 - 0s - loss: 0.3657 - 47ms/epoch - 1ms/step\n",
      "Epoch 29/100\n",
      "32/32 - 0s - loss: 0.3582 - 47ms/epoch - 1ms/step\n",
      "Epoch 30/100\n",
      "32/32 - 0s - loss: 0.3535 - 48ms/epoch - 1ms/step\n",
      "Epoch 31/100\n",
      "32/32 - 0s - loss: 0.3540 - 50ms/epoch - 2ms/step\n",
      "Epoch 32/100\n",
      "32/32 - 0s - loss: 0.3532 - 47ms/epoch - 1ms/step\n",
      "Epoch 33/100\n",
      "32/32 - 0s - loss: 0.3556 - 48ms/epoch - 1ms/step\n",
      "Epoch 34/100\n",
      "32/32 - 0s - loss: 0.3514 - 49ms/epoch - 2ms/step\n",
      "Epoch 35/100\n",
      "32/32 - 0s - loss: 0.3556 - 47ms/epoch - 1ms/step\n",
      "Epoch 36/100\n",
      "32/32 - 0s - loss: 0.3545 - 46ms/epoch - 1ms/step\n",
      "Epoch 37/100\n",
      "32/32 - 0s - loss: 0.3555 - 47ms/epoch - 1ms/step\n",
      "Epoch 38/100\n",
      "32/32 - 0s - loss: 0.3560 - 48ms/epoch - 1ms/step\n",
      "Epoch 39/100\n",
      "32/32 - 0s - loss: 0.3575 - 48ms/epoch - 1ms/step\n",
      "Epoch 40/100\n",
      "32/32 - 0s - loss: 0.3546 - 47ms/epoch - 1ms/step\n",
      "Epoch 41/100\n",
      "32/32 - 0s - loss: 0.3619 - 46ms/epoch - 1ms/step\n",
      "Epoch 42/100\n",
      "32/32 - 0s - loss: 0.3557 - 46ms/epoch - 1ms/step\n",
      "Epoch 43/100\n",
      "32/32 - 0s - loss: 0.3563 - 48ms/epoch - 1ms/step\n",
      "Epoch 44/100\n",
      "32/32 - 0s - loss: 0.3575 - 48ms/epoch - 1ms/step\n",
      "Epoch 45/100\n",
      "32/32 - 0s - loss: 0.3497 - 47ms/epoch - 1ms/step\n",
      "Epoch 46/100\n",
      "32/32 - 0s - loss: 0.3533 - 47ms/epoch - 1ms/step\n",
      "Epoch 47/100\n",
      "32/32 - 0s - loss: 0.3548 - 47ms/epoch - 1ms/step\n",
      "Epoch 48/100\n",
      "32/32 - 0s - loss: 0.3568 - 46ms/epoch - 1ms/step\n",
      "Epoch 49/100\n",
      "32/32 - 0s - loss: 0.3644 - 48ms/epoch - 2ms/step\n",
      "Epoch 50/100\n",
      "32/32 - 0s - loss: 0.3530 - 50ms/epoch - 2ms/step\n",
      "Epoch 51/100\n",
      "32/32 - 0s - loss: 0.3580 - 47ms/epoch - 1ms/step\n",
      "Epoch 52/100\n",
      "32/32 - 0s - loss: 0.3548 - 47ms/epoch - 1ms/step\n",
      "Epoch 53/100\n",
      "32/32 - 0s - loss: 0.3545 - 47ms/epoch - 1ms/step\n",
      "Epoch 54/100\n",
      "32/32 - 0s - loss: 0.3544 - 48ms/epoch - 2ms/step\n",
      "Epoch 55/100\n",
      "32/32 - 0s - loss: 0.3526 - 46ms/epoch - 1ms/step\n",
      "Epoch 56/100\n",
      "32/32 - 0s - loss: 0.3598 - 46ms/epoch - 1ms/step\n",
      "Epoch 57/100\n",
      "32/32 - 0s - loss: 0.3566 - 47ms/epoch - 1ms/step\n",
      "Epoch 58/100\n",
      "32/32 - 0s - loss: 0.3540 - 45ms/epoch - 1ms/step\n",
      "Epoch 59/100\n",
      "32/32 - 0s - loss: 0.3564 - 46ms/epoch - 1ms/step\n",
      "Epoch 60/100\n",
      "32/32 - 0s - loss: 0.3571 - 46ms/epoch - 1ms/step\n",
      "Epoch 61/100\n",
      "32/32 - 0s - loss: 0.3534 - 49ms/epoch - 2ms/step\n",
      "Epoch 62/100\n",
      "32/32 - 0s - loss: 0.3538 - 48ms/epoch - 1ms/step\n",
      "Epoch 63/100\n",
      "32/32 - 0s - loss: 0.3566 - 46ms/epoch - 1ms/step\n",
      "Epoch 64/100\n",
      "32/32 - 0s - loss: 0.3512 - 48ms/epoch - 1ms/step\n",
      "Epoch 65/100\n",
      "32/32 - 0s - loss: 0.3555 - 48ms/epoch - 1ms/step\n",
      "Epoch 66/100\n",
      "32/32 - 0s - loss: 0.3607 - 49ms/epoch - 2ms/step\n",
      "Epoch 67/100\n",
      "32/32 - 0s - loss: 0.3552 - 47ms/epoch - 1ms/step\n",
      "Epoch 68/100\n",
      "32/32 - 0s - loss: 0.3534 - 46ms/epoch - 1ms/step\n",
      "Epoch 69/100\n",
      "32/32 - 0s - loss: 0.3590 - 47ms/epoch - 1ms/step\n",
      "Epoch 70/100\n",
      "32/32 - 0s - loss: 0.3579 - 47ms/epoch - 1ms/step\n",
      "Epoch 71/100\n",
      "32/32 - 0s - loss: 0.3514 - 46ms/epoch - 1ms/step\n",
      "Epoch 72/100\n",
      "32/32 - 0s - loss: 0.3548 - 47ms/epoch - 1ms/step\n",
      "Epoch 73/100\n",
      "32/32 - 0s - loss: 0.3550 - 49ms/epoch - 2ms/step\n",
      "Epoch 74/100\n",
      "32/32 - 0s - loss: 0.3493 - 46ms/epoch - 1ms/step\n",
      "Epoch 75/100\n",
      "32/32 - 0s - loss: 0.3557 - 45ms/epoch - 1ms/step\n",
      "Epoch 76/100\n",
      "32/32 - 0s - loss: 0.3533 - 46ms/epoch - 1ms/step\n",
      "Epoch 77/100\n",
      "32/32 - 0s - loss: 0.3580 - 46ms/epoch - 1ms/step\n",
      "Epoch 78/100\n",
      "32/32 - 0s - loss: 0.3566 - 46ms/epoch - 1ms/step\n",
      "Epoch 79/100\n",
      "32/32 - 0s - loss: 0.3626 - 47ms/epoch - 1ms/step\n",
      "Epoch 80/100\n",
      "32/32 - 0s - loss: 0.3537 - 47ms/epoch - 1ms/step\n",
      "Epoch 81/100\n",
      "32/32 - 0s - loss: 0.3551 - 47ms/epoch - 1ms/step\n",
      "Epoch 82/100\n",
      "32/32 - 0s - loss: 0.3579 - 45ms/epoch - 1ms/step\n",
      "Epoch 83/100\n",
      "32/32 - 0s - loss: 0.3529 - 46ms/epoch - 1ms/step\n",
      "Epoch 84/100\n",
      "32/32 - 0s - loss: 0.3579 - 47ms/epoch - 1ms/step\n",
      "Epoch 85/100\n",
      "32/32 - 0s - loss: 0.3490 - 50ms/epoch - 2ms/step\n",
      "Epoch 86/100\n",
      "32/32 - 0s - loss: 0.3514 - 46ms/epoch - 1ms/step\n",
      "Epoch 87/100\n",
      "32/32 - 0s - loss: 0.3571 - 46ms/epoch - 1ms/step\n",
      "Epoch 88/100\n",
      "32/32 - 0s - loss: 0.3537 - 46ms/epoch - 1ms/step\n",
      "Epoch 89/100\n",
      "32/32 - 0s - loss: 0.3595 - 48ms/epoch - 1ms/step\n",
      "Epoch 90/100\n",
      "32/32 - 0s - loss: 0.3622 - 46ms/epoch - 1ms/step\n",
      "Epoch 91/100\n",
      "32/32 - 0s - loss: 0.3658 - 47ms/epoch - 1ms/step\n",
      "Epoch 92/100\n",
      "32/32 - 0s - loss: 0.3545 - 46ms/epoch - 1ms/step\n",
      "Epoch 93/100\n",
      "32/32 - 0s - loss: 0.3513 - 46ms/epoch - 1ms/step\n",
      "Epoch 94/100\n",
      "32/32 - 0s - loss: 0.3512 - 47ms/epoch - 1ms/step\n",
      "Epoch 95/100\n",
      "32/32 - 0s - loss: 0.3555 - 46ms/epoch - 1ms/step\n",
      "Epoch 96/100\n",
      "32/32 - 0s - loss: 0.3546 - 45ms/epoch - 1ms/step\n",
      "Epoch 97/100\n",
      "32/32 - 0s - loss: 0.3615 - 49ms/epoch - 2ms/step\n",
      "Epoch 98/100\n",
      "32/32 - 0s - loss: 0.3547 - 46ms/epoch - 1ms/step\n",
      "Epoch 99/100\n",
      "32/32 - 0s - loss: 0.3547 - 47ms/epoch - 1ms/step\n",
      "Epoch 100/100\n",
      "32/32 - 0s - loss: 0.3526 - 46ms/epoch - 1ms/step\n"
     ]
    },
    {
     "data": {
      "text/plain": [
       "<keras.callbacks.History at 0x1fdae53f790>"
      ]
     },
     "execution_count": 21,
     "metadata": {},
     "output_type": "execute_result"
    }
   ],
   "source": [
    "input_size = 2\n",
    "output_size = 1\n",
    "\n",
    "model = tf.keras.Sequential([\n",
    "    tf.keras.layers.Dense(output_size)\n",
    "])\n",
    "\n",
    "model.compile(optimizer = 'SGD', loss = 'mean_squared_error')\n",
    "\n",
    "model.fit(training_data['inputs'], training_data['targets'], epochs=100, verbose=2)"
   ]
  },
  {
   "cell_type": "code",
   "execution_count": 23,
   "id": "ac925949",
   "metadata": {},
   "outputs": [
    {
     "data": {
      "text/plain": [
       "[array([[2.0045106],\n",
       "        [3.0226007]], dtype=float32),\n",
       " array([5.005863], dtype=float32)]"
      ]
     },
     "execution_count": 23,
     "metadata": {},
     "output_type": "execute_result"
    }
   ],
   "source": [
    "model.layers[0].get_weights()"
   ]
  },
  {
   "cell_type": "code",
   "execution_count": 24,
   "id": "94d282eb",
   "metadata": {},
   "outputs": [
    {
     "data": {
      "image/png": "[encoded data removed]",
      "text/plain": [
       "<Figure size 432x288 with 1 Axes>"
      ]
     },
     "metadata": {
      "needs_background": "light"
     },
     "output_type": "display_data"
    }
   ],
   "source": [
    "plt.plot(np.squeeze(model.predict_on_batch(training_data['inputs'])), np.squeeze(training_data['targets']))\n",
    "plt.xlabel('outputs')\n",
    "plt.ylabel('targets')\n",
    "plt.show()"
   ]
  }
 ],
 "metadata": {
  "kernelspec": {
   "display_name": "DataScience",
   "language": "python",
   "name": "datascience"
  },
  "language_info": {
   "codemirror_mode": {
    "name": "ipython",
    "version": 3
   },
   "file_extension": ".py",
   "mimetype": "text/x-python",
   "name": "python",
   "nbconvert_exporter": "python",
   "pygments_lexer": "ipython3",
   "version": "3.9.0"
  }
 },
 "nbformat": 4,
 "nbformat_minor": 5
}
